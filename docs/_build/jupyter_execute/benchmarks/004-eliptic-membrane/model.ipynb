{
 "cells": [
  {
   "cell_type": "code",
   "execution_count": 1,
   "metadata": {},
   "outputs": [
    {
     "data": {
      "application/vnd.jupyter.widget-view+json": {
       "model_id": "9541904f3d4e4ca6b19383207d20046b",
       "version_major": 2,
       "version_minor": 0
      },
      "text/plain": [
       "AppLayout(children=(Scene(children=[IsoColor(input=('S', 'YY'), max=93000000.0, min=-34000000.0, parent=TetraM…"
      ]
     },
     "metadata": {},
     "output_type": "display_data"
    }
   ],
   "source": [
    "import numpy as np\n",
    "import pyvista as pv\n",
    "from ipywidgets import FloatSlider, FloatRangeSlider, Dropdown, Select, Box, AppLayout, jslink, Layout, VBox, HBox\n",
    "from ipygany import Scene, IsoColor, TetraMesh, Component, ColorBar, colormaps\n",
    "\n",
    "\n",
    "\n",
    "mesh = TetraMesh.from_vtk('benchmarks/004-eliptic-membrane/eliptic-membrane.vtu', show_edges = True)\n",
    "\n",
    "sigmayy_min = -3.4e7\n",
    "sigmayy_max = 9.3e7\n",
    "\n",
    "# Colorize by height\n",
    "colored_mesh = IsoColor(mesh, input=('S','YY'), min=sigmayy_min, max=sigmayy_max)\n",
    "\n",
    "# Create a slider that will dynamically change the boundaries of the colormap\n",
    "colormap_slider_range = FloatRangeSlider(value=[sigmayy_min, sigmayy_max], min=sigmayy_min, max=sigmayy_max, step=(sigmayy_max - sigmayy_min) / 100.)\n",
    "\n",
    "jslink((colored_mesh, 'range'), (colormap_slider_range, 'value'))\n",
    "\n",
    "# Create a colorbar widget\n",
    "colorbar = ColorBar(colored_mesh)\n",
    "\n",
    "# Colormap choice widget\n",
    "colormap = Dropdown(\n",
    "    options=colormaps,\n",
    "    description='colormap:'\n",
    ")\n",
    "\n",
    "jslink((colored_mesh, 'colormap'), (colormap, 'index'))\n",
    "\n",
    "AppLayout(\n",
    "    header=Scene([colored_mesh]),\n",
    "    left_sidebar=VBox((colormap, colormap_slider_range)),\n",
    "    right_sidebar=(colorbar),\n",
    "    pane_widths=[1, 0, 1],\n",
    "    pane_heights=['80%','20%',0],\n",
    "    footer=None,\n",
    ")"
   ]
  }
 ],
 "metadata": {
  "kernelspec": {
   "display_name": "Python 3",
   "language": "python",
   "name": "python3"
  },
  "language_info": {
   "codemirror_mode": {
    "name": "ipython",
    "version": 3
   },
   "file_extension": ".py",
   "mimetype": "text/x-python",
   "name": "python",
   "nbconvert_exporter": "python",
   "pygments_lexer": "ipython3",
   "version": "3.6.9"
  },
  "widgets": {
   "application/vnd.jupyter.widget-state+json": {
    "state": {
     "02b21708cd3f482b8059d34dc8a8b0ef": {
      "model_module": "ipygany",
      "model_module_version": "^0.5.0",
      "model_name": "DataModel",
      "state": {
       "_model_module": "ipygany",
       "_model_module_version": "^0.5.0",
       "_model_name": "DataModel",
       "_view_count": null,
       "_view_module": null,
       "_view_module_version": "",
       "_view_name": null,
       "components": [
        "IPY_MODEL_65c1b3009e264c789b721025df53a5f1",
        "IPY_MODEL_29500d4de2a04b229b61f9b4f33227f8",
        "IPY_MODEL_b8cdafbb83b948d0b99fb896776ba67c",
        "IPY_MODEL_5ac3fcceffeb440597a8e1e4496702ad",
        "IPY_MODEL_719116bf1b3044dcacfaab50e68e9ee8",
        "IPY_MODEL_534f4f618e8a493e9c9b7e9b1e76f5fb"
       ],
       "name": "S"
      }
     },
     "03152f00995d4c41a6dbec5f775fc2a8": {
      "model_module": "@jupyter-widgets/controls",
      "model_module_version": "1.5.0",
      "model_name": "LinkModel",
      "state": {
       "_model_module": "@jupyter-widgets/controls",
       "_model_module_version": "1.5.0",
       "_model_name": "LinkModel",
       "_view_count": null,
       "_view_module": "@jupyter-widgets/controls",
       "_view_module_version": "1.5.0",
       "_view_name": null,
       "source": [
        "IPY_MODEL_54045fa585ac47c998e5990886749469",
        "range"
       ],
       "target": [
        "IPY_MODEL_089ba7e237cd47d8abc048802fcabb66",
        "value"
       ]
      }
     },
     "079ab39a8bbe4ac69649cae334a5f3c7": {
      "buffers": [
       {
        "data": "L44ntsf6JDdILdu2T9gkOG+SGDZBFxk4ndOwOOOOCDkIehQ4GlPlOcqj8Dg8UPG35DDONmq3UrblNmQ2n/CnN+NuMbZ+4Vc3BAtEOHAmxDYEbrE4uV4TOXPKSjgJ2Lc4DFSMOZLVCTku12I5/fGFtk86LDgOpJo0SGIwN6qNezjv3aI4JDZWOde/gzj7LwM3XENONu/OObaDxlM2tTYGNpJPkbaGBKW2N+j0tV4wHzfKxM82ncH8N6TZhzfOr/c2VWlrNVnTlbZEO0I3sEGYNkf8Y7OqTDc4IK/SN4JbKziwgbg3TtK4tvSzFzj6PBI49+KYOKT0cDh8hdE36/X2OJb+vzi/ogs5ssjcOD/5qDhVFHs44XuAONa8LjiY69w4WemrOPvSeDirNzo4uHgoOY/8bDlxFzA56VsnOcoFDzmcg8o5R6qZOdA+WjlRXyM50CwKOYkZwDjunp44wB3nN4ovszePYJg4jk5UOHPDnjYprje3",
        "encoding": "base64",
        "path": [
         "array",
         "data"
        ]
       }
      ],
      "model_module": "ipygany",
      "model_module_version": "^0.5.0",
      "model_name": "ComponentModel",
      "state": {
       "_model_module": "ipygany",
       "_model_module_version": "^0.5.0",
       "_model_name": "ComponentModel",
       "_view_count": null,
       "_view_module": null,
       "_view_module_version": "",
       "_view_name": null,
       "array": {
        "dtype": "float32",
        "shape": [
         93
        ]
       },
       "name": "YY"
      }
     },
     "089ba7e237cd47d8abc048802fcabb66": {
      "model_module": "@jupyter-widgets/controls",
      "model_module_version": "1.5.0",
      "model_name": "FloatRangeSliderModel",
      "state": {
       "_dom_classes": [],
       "_model_module": "@jupyter-widgets/controls",
       "_model_module_version": "1.5.0",
       "_model_name": "FloatRangeSliderModel",
       "_view_count": null,
       "_view_module": "@jupyter-widgets/controls",
       "_view_module_version": "1.5.0",
       "_view_name": "FloatRangeSliderView",
       "continuous_update": true,
       "description": "",
       "description_tooltip": null,
       "disabled": false,
       "layout": "IPY_MODEL_ad621201132f4950a7349f10d0147e08",
       "max": 93000000.0,
       "min": -34000000.0,
       "orientation": "horizontal",
       "readout": true,
       "readout_format": ".2f",
       "step": 1270000.0,
       "style": "IPY_MODEL_1cc3ef0ffec142bab030b96fc39c3a0c",
       "value": [
        -34000000.0,
        93000000.0
       ]
      }
     },
     "0f22e17d889f49df9c3d5430c02abd0d": {
      "buffers": [
       {
        "data": "7uYgOFa4NzhmTIw4zYT4OAZcPjkO8BQ5mXmQOaqGNjnd6oA4nN4TOkbjITnAppI47KLeNydpjze1XKs4xYG+OANbAzkAXDQ5mToEOcxf/jht8x05hEBoOTZT1zide+o4a37sOXIVMDkbwI85CJZuONzToTh++SA48DgEObimGzk9qwA5oQaLObeyvziq9Sc4fguBNwTczTfBMjU3wd+AOBuniDjffzg4108TNsZZjDg1w3w4eETeOJ+MwDjAT9w45Cr+OHIkzjjkyBs5TJ4yOXlpITkYgv84ImH9OP3HCDnhaR85hx6fOMSFDTkdL/I4flgbOSuSBzlukko5x557OakSOjk0o0g5UX4nOTFVDDloEfs4v67fOJcg/DioVA85RdTsOHSbpjiW76s4aga/OUUXrDk2ync5TnBWOf28NznpPAo6UAPEOUQyizlPElM5/Bw0OYtv/TidB9A47F6BOOHZaTh4ed84m82vOJYAdzh6b4M4",
        "encoding": "base64",
        "path": [
         "array",
         "data"
        ]
       }
      ],
      "model_module": "ipygany",
      "model_module_version": "^0.5.0",
      "model_name": "ComponentModel",
      "state": {
       "_model_module": "ipygany",
       "_model_module_version": "^0.5.0",
       "_model_name": "ComponentModel",
       "_view_count": null,
       "_view_module": null,
       "_view_module_version": "",
       "_view_name": null,
       "array": {
        "dtype": "float32",
        "shape": [
         93
        ]
       },
       "name": "E_Mises"
      }
     },
     "115a96bb1971400f82c888658c2f86c2": {
      "model_module": "ipygany",
      "model_module_version": "^0.5.0",
      "model_name": "DataModel",
      "state": {
       "_model_module": "ipygany",
       "_model_module_version": "^0.5.0",
       "_model_name": "DataModel",
       "_view_count": null,
       "_view_module": null,
       "_view_module_version": "",
       "_view_name": null,
       "components": [
        "IPY_MODEL_7581162960744cffb84badbaa390c989",
        "IPY_MODEL_83c3ef2280ea440fa42d00b517fe3077",
        "IPY_MODEL_2ae23022cda1437c9b7bd968a2abac5d"
       ],
       "name": "S_Principal"
      }
     },
     "1cc3ef0ffec142bab030b96fc39c3a0c": {
      "model_module": "@jupyter-widgets/controls",
      "model_module_version": "1.5.0",
      "model_name": "SliderStyleModel",
      "state": {
       "_model_module": "@jupyter-widgets/controls",
       "_model_module_version": "1.5.0",
       "_model_name": "SliderStyleModel",
       "_view_count": null,
       "_view_module": "@jupyter-widgets/base",
       "_view_module_version": "1.2.0",
       "_view_name": "StyleView",
       "description_width": "",
       "handle_color": null
      }
     },
     "1f820ae005514013ba4987854ffb67c2": {
      "model_module": "@jupyter-widgets/controls",
      "model_module_version": "1.5.0",
      "model_name": "DescriptionStyleModel",
      "state": {
       "_model_module": "@jupyter-widgets/controls",
       "_model_module_version": "1.5.0",
       "_model_name": "DescriptionStyleModel",
       "_view_count": null,
       "_view_module": "@jupyter-widgets/base",
       "_view_module_version": "1.2.0",
       "_view_name": "StyleView",
       "description_width": ""
      }
     },
     "2200a45eeb794d9292f62f1a0a5dd556": {
      "buffers": [
       {
        "data": "zfUVt2HiJDccStu27PbGt/JYGDaYz0Y3/451uInNp7fkTP035Nz6uD9vCDhurxy3oHC9Nh3BUrZAJ1G3DhCkt/WmMbYjzJ42WZCftmCQ47erhOy3s0kRuKj1sTcOl401Ut7JuG5T6jaStR43/5Qntw0+JDi2sQK3igBptiH0CriVsIu2YB5tt2gThTchLQc3tyXktQiWu7YN3g42qBFCt8XJCbeHBKW2nyGRtdMTf7epMFG30djFt6hsk7cOo/22hroetuI6lrZKsZs1kJUwNgZZabNEfGq3hRs/tvzhtTaTfvI2lReOt4Tz4rfYG9u33QD2txoq1rd/uza4Tr0suCdeCrguMc+3w+fFtzKJhrekVSW2Y/c1N6TxhTf42xC3yMu3NcUehjcIk+E3qmuruM3rR7j358K3Tc0wtqVktrYLkti4kiZUuEA72rOnMZI3J07FN0cwWjczdUk3ePxEN1K+ijc//hc4VVsDOJZMnTYsIlG3",
        "encoding": "base64",
        "path": [
         "array",
         "data"
        ]
       }
      ],
      "model_module": "ipygany",
      "model_module_version": "^0.5.0",
      "model_name": "ComponentModel",
      "state": {
       "_model_module": "ipygany",
       "_model_module_version": "^0.5.0",
       "_model_name": "ComponentModel",
       "_view_count": null,
       "_view_module": null,
       "_view_module_version": "",
       "_view_name": null,
       "array": {
        "dtype": "float32",
        "shape": [
         93
        ]
       },
       "name": "Mid"
      }
     },
     "29500d4de2a04b229b61f9b4f33227f8": {
      "buffers": [
       {
        "data": "kEBpSYC8C8iQqwJKSLQoSwyQH0uoU1tLcoy6Sxhy3kssjBxL9FuxTJAl20tA2UzKAHcFxwCiLEi4KHtKdKbBSoT0vUqQLjRL0FxXSxgNqEpKWpdLeOX2S6CeXksyLZtLm8toTJgw60tq8UFMALPJSbTAPEtgZphJGMD+SniEaUsixZBLSEYyTNCodEsANMLIINQ+SYBkz0gAGidIUBEtSoBjCkpwuZlJYNQKyegzd0pAvTZKprMHSwgswUpgJsRKgH7JSqi+hErQchlLsK4bSxITAEsoYEJLBKIfS+heVks0oTtLAHPNSXzDK0uWkhVLkkqHSzyqXEu8GSdLPIXeS7xFqEvqteZLtmm3Sx53kks84nRLkLZ5S/QxWUtmKbZLoLGUSxjdYUtcukVLef0XTBZjQkwutxJMcAgMTMiT7kuA/qBMlj10TNILOExwZg1MHs70S5ivqEsK54tLttwASwQX30rcs5JLqOJYS3C+gEoApy5J",
        "encoding": "base64",
        "path": [
         "array",
         "data"
        ]
       }
      ],
      "model_module": "ipygany",
      "model_module_version": "^0.5.0",
      "model_name": "ComponentModel",
      "state": {
       "_model_module": "ipygany",
       "_model_module_version": "^0.5.0",
       "_model_name": "ComponentModel",
       "_view_count": null,
       "_view_module": null,
       "_view_module_version": "",
       "_view_name": null,
       "array": {
        "dtype": "float32",
        "shape": [
         93
        ]
       },
       "name": "YY"
      }
     },
     "29ab61fd353c474da4f41b1a9c315df2": {
      "model_module": "ipygany",
      "model_module_version": "^0.5.0",
      "model_name": "ColorBarModel",
      "state": {
       "_dom_classes": [],
       "_model_module": "ipygany",
       "_model_module_version": "^0.5.0",
       "_model_name": "ColorBarModel",
       "_view_count": null,
       "_view_module": "ipygany",
       "_view_module_version": "^0.5.0",
       "_view_name": "ColorBarView",
       "layout": "IPY_MODEL_f5725118e8f84bd8b9a1207c235123f3",
       "parent": "IPY_MODEL_54045fa585ac47c998e5990886749469"
      }
     },
     "29dcc9dfbfb34172a288fc68d64750be": {
      "model_module": "ipygany",
      "model_module_version": "^0.5.0",
      "model_name": "SceneModel",
      "state": {
       "_dom_classes": [],
       "_model_module": "ipygany",
       "_model_module_version": "^0.5.0",
       "_model_name": "SceneModel",
       "_view_count": null,
       "_view_module": "ipygany",
       "_view_module_version": "^0.5.0",
       "_view_name": "SceneView",
       "background_color": "white",
       "background_opacity": 1.0,
       "camera": null,
       "children": [
        "IPY_MODEL_54045fa585ac47c998e5990886749469"
       ],
       "layout": "IPY_MODEL_c78f59c5cdbf46e98f211e80c467610b"
      }
     },
     "2ae23022cda1437c9b7bd968a2abac5d": {
      "buffers": [
       {
        "data": "J/i5SvfgCcgyvTJL/iiVS44t/Uvi0chLXtssTIri5kvXKx1LF1yxTOhA20tm+AtLSSe1RY1rLEoWKVRL97pZSzx/rEvW6fBL3MCsS5vulUsdkr9LJMoPTF8jkku0oJtLoKWNTIVa60vT9UFMAdAPSx12Q0sDw7JK11qtSx3Xt0u7d6hLYtk1TAUbgkuAifrHqbD0SccqbkqYQitIczMcS/92K0v0XelKAKQlyEF1JUuKyg5LfnGDS8OFaEtJNI5LdiCnS2Jchku9ms5LH2XtSzOT1UssjqFLSVemS+HLtktxZtVLllU1SxN5qkve1IxLOkG7SyU6o0uG7epL/S0aTMyg4UsoCfxL6/vPS83xsEtUF6VL4RiXS0L7qkuIRLlL7iidS8IGYktSUGRLdjViTDeaVUwtHB5M4ekMTLgQ8Uuk4KhMfUd0TPn7OEzDbQ1MvuL0SwqhqkvbzYxL9eMuS3gaHEuc5JJLigZmS4o+JUteox1L",
        "encoding": "base64",
        "path": [
         "array",
         "data"
        ]
       }
      ],
      "model_module": "ipygany",
      "model_module_version": "^0.5.0",
      "model_name": "ComponentModel",
      "state": {
       "_model_module": "ipygany",
       "_model_module_version": "^0.5.0",
       "_model_name": "ComponentModel",
       "_view_count": null,
       "_view_module": null,
       "_view_module_version": "",
       "_view_name": null,
       "array": {
        "dtype": "float32",
        "shape": [
         93
        ]
       },
       "name": "Max"
      }
     },
     "3d4170d81ca94fc4bb134029afb94851": {
      "model_module": "@jupyter-widgets/controls",
      "model_module_version": "1.5.0",
      "model_name": "VBoxModel",
      "state": {
       "_dom_classes": [],
       "_model_module": "@jupyter-widgets/controls",
       "_model_module_version": "1.5.0",
       "_model_name": "VBoxModel",
       "_view_count": null,
       "_view_module": "@jupyter-widgets/controls",
       "_view_module_version": "1.5.0",
       "_view_name": "VBoxView",
       "box_style": "",
       "children": [
        "IPY_MODEL_4e8760590adc4abfa05fa6febde4e960",
        "IPY_MODEL_089ba7e237cd47d8abc048802fcabb66"
       ],
       "layout": "IPY_MODEL_a67995c2b7c44aeea7aaec5b93c87a4f"
      }
     },
     "4dab8f188ae541ee8ee0e1d688828c80": {
      "model_module": "@jupyter-widgets/base",
      "model_module_version": "1.2.0",
      "model_name": "LayoutModel",
      "state": {
       "_model_module": "@jupyter-widgets/base",
       "_model_module_version": "1.2.0",
       "_model_name": "LayoutModel",
       "_view_count": null,
       "_view_module": "@jupyter-widgets/base",
       "_view_module_version": "1.2.0",
       "_view_name": "LayoutView",
       "align_content": null,
       "align_items": null,
       "align_self": null,
       "border": null,
       "bottom": null,
       "display": null,
       "flex": null,
       "flex_flow": null,
       "grid_area": null,
       "grid_auto_columns": null,
       "grid_auto_flow": null,
       "grid_auto_rows": null,
       "grid_column": null,
       "grid_gap": null,
       "grid_row": null,
       "grid_template_areas": "\"header header\"\n\"left-sidebar right-sidebar\"",
       "grid_template_columns": "1fr 1fr",
       "grid_template_rows": "80% 20%",
       "height": null,
       "justify_content": null,
       "justify_items": null,
       "left": null,
       "margin": null,
       "max_height": null,
       "max_width": null,
       "min_height": null,
       "min_width": null,
       "object_fit": null,
       "object_position": null,
       "order": null,
       "overflow": null,
       "overflow_x": null,
       "overflow_y": null,
       "padding": null,
       "right": null,
       "top": null,
       "visibility": null,
       "width": null
      }
     },
     "4e8760590adc4abfa05fa6febde4e960": {
      "model_module": "@jupyter-widgets/controls",
      "model_module_version": "1.5.0",
      "model_name": "DropdownModel",
      "state": {
       "_dom_classes": [],
       "_model_module": "@jupyter-widgets/controls",
       "_model_module_version": "1.5.0",
       "_model_name": "DropdownModel",
       "_options_labels": [
        "BrBG",
        "PRGn",
        "PiYG",
        "PuOr",
        "RdBu",
        "RdGy",
        "RdYlBu",
        "RdYlGn",
        "Spectral",
        "BuGn",
        "BuPu",
        "GnBu",
        "OrRd",
        "PuBuGn",
        "PuBu",
        "PuRd",
        "RdPu",
        "YlGnBu",
        "YlGn",
        "YlOrBr",
        "YlOrRd",
        "Blues",
        "Greens",
        "Greys",
        "Purples",
        "Reds",
        "Oranges",
        "Cividis",
        "CubehelixDefault",
        "Rainbow",
        "Warm",
        "Cool",
        "Sinebow",
        "Turbo",
        "Viridis",
        "Magma",
        "Inferno",
        "Plasma"
       ],
       "_view_count": null,
       "_view_module": "@jupyter-widgets/controls",
       "_view_module_version": "1.5.0",
       "_view_name": "DropdownView",
       "description": "colormap:",
       "description_tooltip": null,
       "disabled": false,
       "index": 0,
       "layout": "IPY_MODEL_bcb51d3a84204a5b817e27601ea3df0b",
       "style": "IPY_MODEL_1f820ae005514013ba4987854ffb67c2"
      }
     },
     "534f4f618e8a493e9c9b7e9b1e76f5fb": {
      "buffers": [
       {
        "data": "1v/aMDRX4DRssJo08kEAsxZQHTSHWkaz/f8csZwoIrP8xKOz/x+OM/z/AzDK32Ay6PQ3tIKmrzP9SbezA9ybs1dAAjSB2AyzCtFns+wPmjL9P/wx/r/PMSJckzP4nQoz/e87szDgLbI1QF4yEzjrMhyAQLICrLwy6QdEMueHiTL7z7CzHgCusAIAQrDyj8CyASSGswMAxK++zmU09e9JswXgB7IuP0o0+P/jMQcggLMR4J0yAyg3swAwz7L5T2Cz8n2/MoHTZDQE7MKy9f2KsnaqRjT7P/cx9F8uMwVPgrP/xgOzA4ADMvSf7zL//6Ex/f+csQe4CjP2/1GxAzBSs///fzHqY8iyATBpMthvdLIHClqz+/4WM30Xh7PxL4my+UOpMgEAlrIvoP+z90dZswLA9zIEMLuyAcDQMgzQ/jIBwJ8zAoC2svT/HTH+/8OxBAAYMAoA2C/r76MyGABBsv/fBbMbAJOy5J+pMv7/B7LlH7Cy",
        "encoding": "base64",
        "path": [
         "array",
         "data"
        ]
       }
      ],
      "model_module": "ipygany",
      "model_module_version": "^0.5.0",
      "model_name": "ComponentModel",
      "state": {
       "_model_module": "ipygany",
       "_model_module_version": "^0.5.0",
       "_model_name": "ComponentModel",
       "_view_count": null,
       "_view_module": null,
       "_view_module_version": "",
       "_view_name": null,
       "array": {
        "dtype": "float32",
        "shape": [
         93
        ]
       },
       "name": "ZX"
      }
     },
     "54045fa585ac47c998e5990886749469": {
      "buffers": [
       {
        "data": "",
        "encoding": "base64",
        "path": [
         "vertices",
         "data"
        ]
       }
      ],
      "model_module": "ipygany",
      "model_module_version": "^0.5.0",
      "model_name": "IsoColorModel",
      "state": {
       "_model_module": "ipygany",
       "_model_module_version": "^0.5.0",
       "_model_name": "IsoColorModel",
       "_view_count": null,
       "_view_module": null,
       "_view_module_version": "",
       "_view_name": null,
       "colormap": 34,
       "default_color": "#6395b0",
       "environment_meshes": [],
       "input": [
        "S",
        "YY"
       ],
       "max": 93000000.0,
       "min": -34000000.0,
       "parent": "IPY_MODEL_b8f7680d3b21405d8c76d971ee468b50",
       "range": [
        -34000000.0,
        93000000.0
       ],
       "type": "linear",
       "vertices": {
        "dtype": "float32",
        "shape": [
         0
        ]
       }
      }
     },
     "55740c781a134c18b8cfccb7482b4308": {
      "buffers": [
       {
        "data": "2ZNCuAAAAAAAAAAAZTQXOAAAAADJ7zY5TzexuKSPGLjYaI84FXPTuIiq4bjEHJq4gU6xtwAAAAAQKwE4U5wfNAAAAABG/PU4t7fSOBUbiLjADlA3PM1wuN9qHTk5wxg3FbzJuKu0sbjDRem4MRvxt9jiwbiB0/02bvuWOHJgq7fEo5s4z0/DuCdhfrivRC635rHGtvMdhzYAAAAA8WilN1aujjcAAAAABz8MuLWUsrcBpJo25J2fNzPkIDhIZ1g4fhYfOAAAAADoMsQ4MHmDOAAAAADkAo84+x/AODX3DTlsTSQ5D9BpuHw9KbhvuiK3tmpWtj/55jeo1Z24BhmRuH4BIrgM10O4vncbt3RiMjiEab44g6XlOElfMjnS2ni3VgQ1OAzHGDiCSe84UDW/uG9MyLhxOqC4N6K7uP75gLg1YNK4TrjluBMG37iDROe4hX/UuNZNmrgkm/O35QBAuM3JjzeF4NK4ZNmxuLarrrhTCIG4",
        "encoding": "base64",
        "path": [
         "array",
         "data"
        ]
       }
      ],
      "model_module": "ipygany",
      "model_module_version": "^0.5.0",
      "model_name": "ComponentModel",
      "state": {
       "_model_module": "ipygany",
       "_model_module_version": "^0.5.0",
       "_model_name": "ComponentModel",
       "_view_count": null,
       "_view_module": null,
       "_view_module_version": "",
       "_view_name": null,
       "array": {
        "dtype": "float32",
        "shape": [
         93
        ]
       },
       "name": "D1"
      }
     },
     "5a6dde772a334f56a40e6be49043de95": {
      "buffers": [
       {
        "data": "UNu/N7lpDrgBJl04+ybyN5voFTkY97M4rQ+UOAW5XLdNbP839tv6uE7MCDgdg0w45wCqt1hYXjcz4kk4L5DTNzQqzziQSAU5v4JJOLN+fThi55Q2+bjatYWCTzg4ur41HxRwt+XI7jaeLR834OofOIaoLzj3JpI32lSzOFavsjcdwHw33MsLt5YAujekFgK4m4CDNcJ/gjemjge3jacPOAVzRjj9ORE4/yWRtRNA3je/sr43v/7qN9mZHTjfro442rXBOJ3FojhgcN84coIKObRX/jghcCA4m0KNOGgHjDgWpdo48Tc3ODFpLjjJX9c3N2BXN6nckTcatZ44xMjuN6dPYzeAK/i2zEl1tqPXETc20AY4YcsGOO2jiziiJ822CDkKN5CshjcW1SQ49VMiOEFDird5K5+2osuhtcFOZbaw6aK4L+NTuJGvvjVYlZI3jdrFN+2jdDdOu1U3gCP/N4IxETgmpBg4WbcZOExPPzj4YUU4",
        "encoding": "base64",
        "path": [
         "array",
         "data"
        ]
       }
      ],
      "model_module": "ipygany",
      "model_module_version": "^0.5.0",
      "model_name": "ComponentModel",
      "state": {
       "_model_module": "ipygany",
       "_model_module_version": "^0.5.0",
       "_model_name": "ComponentModel",
       "_view_count": null,
       "_view_module": null,
       "_view_module_version": "",
       "_view_name": null,
       "array": {
        "dtype": "float32",
        "shape": [
         93
        ]
       },
       "name": "XX"
      }
     },
     "5ac3fcceffeb440597a8e1e4496702ad": {
      "buffers": [
       {
        "data": "ACINyoCU4scmtIzHRuUNywB62Me4ftLKeGenyzQenspABjVIQP4ayGCN0kggPYRIAJDKSADOckaY3ZjKFKLkyvOHtcc4i5vKAocAy65yBMskjBXLxHA7y0SDiMrwEl7J9tTUy+BjIEnAqr1IsHonSkCNs0g4zzHKPOityux3L8tIisPKHHqvyqC1KUoAaPBIMKmoyaCxo8lz6KvHANJ1ykjCEMq0iNVDH2XExEz/n8rU7JPKqsQByxy+1Mr4rKXKUMssysDrHMiIVqPKkOMays2Ydcc+SQfLWG3ayvTZ5crknLrKRFuSypRfIsta+A7LWNMhy6QYE8uUAGjLGKyByxCnO8t00wDLdOH5yqj38Moo8uTKdIWhyoDIscogGifKqABoymBshcjgURHKxJXSy8yzY8uujBLLICEWygDWJsoo7onL4Cg3SdiLL8qA6cdIINbRSGCC20mQiYZJmGgpSpAWuEmgHLtIEATISUDRUkjgY7tJ",
        "encoding": "base64",
        "path": [
         "array",
         "data"
        ]
       }
      ],
      "model_module": "ipygany",
      "model_module_version": "^0.5.0",
      "model_name": "ComponentModel",
      "state": {
       "_model_module": "ipygany",
       "_model_module_version": "^0.5.0",
       "_model_name": "ComponentModel",
       "_view_count": null,
       "_view_module": null,
       "_view_module_version": "",
       "_view_name": null,
       "array": {
        "dtype": "float32",
        "shape": [
         93
        ]
       },
       "name": "XY"
      }
     },
     "65c1b3009e264c789b721025df53a5f1": {
      "buffers": [
       {
        "data": "1DaaSnA63MoUuzJLUvsOS4As/UvQcKpL6KSpS7TptkoSWBBLSIc3SrzZa0uI4QtLID6DyiBqLErIDC1LbEnbSjR+rEs64+ZLeJNaS5iWWkswNNJKGlsPS2RkYUu0jMNKKCxsSxzqI0tI9oRL9AcBS7jEPkvII3VKaB6cS6QwCkvAPwdLgAM9S2x2EEuUlcvKwIHYSMiaTkqgqsjJqIT1SlDlIUv0XelKoAjbyMBvz0q06axKjnsCS0RJFUvclHdLhiGjS5RYhksaxMFLrgvrS86S1Uu08DRLvuCDSzYgi0sYM8NLOO4SS4AbOUuQ1f1KPA/1SiTY80ooCZJLxPBgSxhIEEuw5uVKSKLESkCC50pwjjBLfOoxS9hQi0v4MLNKMEfnSsRq7kosKTlLSKqZSxDXM0tkOyFLUMAjS4CHBEvIYBBLZAACS5yoYktAomBLqPBeS8aHE0s0i/lKvusHS1A4EEv0AkxLNHQ2SwAjJUsM5hlL",
        "encoding": "base64",
        "path": [
         "array",
         "data"
        ]
       }
      ],
      "model_module": "ipygany",
      "model_module_version": "^0.5.0",
      "model_name": "ComponentModel",
      "state": {
       "_model_module": "ipygany",
       "_model_module_version": "^0.5.0",
       "_model_name": "ComponentModel",
       "_view_count": null,
       "_view_module": null,
       "_view_module_version": "",
       "_view_name": null,
       "array": {
        "dtype": "float32",
        "shape": [
         93
        ]
       },
       "name": "XX"
      }
     },
     "719116bf1b3044dcacfaab50e68e9ee8": {
      "buffers": [
       {
        "data": "eG+NNAKYmzP/VbizBHpIs3SUwLSFC7E0AVCUswaMG7MAMaGzA69IsyjQQLIjUDQy9N80suLDNTQGCGuz7M9UMvsDirQVIF20kldwtMH2trIBhNwy/Z9uMwIAn7EBTEMzE4C0Mv4fAjIgADOyffCFsoTjhTIczC80DeQZNAXylDPs6/ky/b8GshMojrL+eRC1AvCDM/H/vjL9zwczH6BLtObrazQJKHY07z/Msh5gfrLSv1wy0dflMxhmYbQGloa0+peKMwDSMDX9nz2zDTqOtDC4/jPiHQA08imkNAdACDPeAwK0A/OCNAGoDrQFMAgyAWAEsgSagLMWfGE0/3/Xs/1fqLPofzkyF7AWNAU/lLP5gcqzAeiwsgC8lbPzD24zgvOuM88HRzIBQBmzDIDcMv7/QzLK/zyyBQCCsRFALjL8/4Iy+pc2sw0A4K/7p76yBsC0sQJAEzL539ix9P+dLwLAKrHj3zay+B+RsfU/TjH8v8ov",
        "encoding": "base64",
        "path": [
         "array",
         "data"
        ]
       }
      ],
      "model_module": "ipygany",
      "model_module_version": "^0.5.0",
      "model_name": "ComponentModel",
      "state": {
       "_model_module": "ipygany",
       "_model_module_version": "^0.5.0",
       "_model_name": "ComponentModel",
       "_view_count": null,
       "_view_module": null,
       "_view_module_version": "",
       "_view_name": null,
       "array": {
        "dtype": "float32",
        "shape": [
         93
        ]
       },
       "name": "YZ"
      }
     },
     "7581162960744cffb84badbaa390c989": {
      "buffers": [
       {
        "data": "ABvsx0xJ3Mr2BpDFAGLbxo1pn0eaabNGgMlwSM2N+EYa+SDHAMc7Sc2O/Ma4NE3KWHaEys0HE8f2ipXFdDA0yQB6HMaaaLJHhVt5RRpYccfNiHBGs5K7RzNzfUZmYcVG8HcOSeWQ28Pg1xRJgIcWyM0wP8Y3vBDJFO5TRZrQzcaaHsFGAGe+SMOxQkWhwczKUkw+ye5ttMezL8nJFEjRRZpiocZcE9LFqdUKyROIeUUEZirJpMi9RM2onsbNyPpGZspGRmYaeEbNFp1GAA/ERgByq0ZmUkNGANy4RYUXb8WFUdNF3o8LyVokjkfYi6XImoA7R3HFhET07yrJ5rU3RzPGpcYADj9HSJl7xT3YikVmyaZGcX2TRc1Zu0YzgbvGSPmdRbh+lkSaYpHGgNxFSIAmAshNsJ9HQNe1x6axjUdQZbhJoBuByEBuhUhA113IgITMR1pTrcfsue9ETbMox4AbD8eAEwXIzaoixk0QjccawxLH",
        "encoding": "base64",
        "path": [
         "array",
         "data"
        ]
       }
      ],
      "model_module": "ipygany",
      "model_module_version": "^0.5.0",
      "model_name": "ComponentModel",
      "state": {
       "_model_module": "ipygany",
       "_model_module_version": "^0.5.0",
       "_model_name": "ComponentModel",
       "_view_count": null,
       "_view_module": null,
       "_view_module_version": "",
       "_view_name": null,
       "array": {
        "dtype": "float32",
        "shape": [
         93
        ]
       },
       "name": "Min"
      }
     },
     "7bc17947839a4a32b20ad5cf0bd9d4ab": {
      "buffers": [
       {
        "data": "6r9zHtz/Xxv5/yecJAD4HBMAWJ3q/2edCgDIHfL/vxsDAGAc7f9/m/L/vxv7/98aCcDRnRigRR72/30dDgDQnP//D5z8/9sd/f+vnPr/qZ3t/3+b7f9/G/T/H50GAIAa8P8Xne3/f5sGAEAdCAAgGwMA4BsUAACd9P+fnAgAIJwIAEQdDgDQnAgAoJv9m2AhImhEoP4XSSD9/3MfI9AiIADgOSH3H/of/cKiICWAcyDmPwsgHUAyIAqwmSD4f9qf+/+3IBsASqAC0BghBiD0IP//1J8wAGAeBiCKIPvvAKH5zxQhBgDunff/Ap8FgMmf9f9knyAASCAJAA4f8//3HhwAaB4AALYe+n/BHxDACSDtv5cgAQAgngDACKEwAGCe9///HfhfJiAXQBagBgDAnPH/O58MAPgdFQCungkAgh4FADSf+v8TH/T/n53z/3cfDwCkng4AAJ8FQJGfDgAMn/P/954HAAkf+v/WHvX/CR/kf9we",
        "encoding": "base64",
        "path": [
         "array",
         "data"
        ]
       }
      ],
      "model_module": "ipygany",
      "model_module_version": "^0.5.0",
      "model_name": "ComponentModel",
      "state": {
       "_model_module": "ipygany",
       "_model_module_version": "^0.5.0",
       "_model_name": "ComponentModel",
       "_view_count": null,
       "_view_module": null,
       "_view_module_version": "",
       "_view_name": null,
       "array": {
        "dtype": "float32",
        "shape": [
         93
        ]
       },
       "name": "D3"
      }
     },
     "7bd5f32017d94c798f925398343049fd": {
      "model_module": "ipygany",
      "model_module_version": "^0.5.0",
      "model_name": "DataModel",
      "state": {
       "_model_module": "ipygany",
       "_model_module_version": "^0.5.0",
       "_model_name": "DataModel",
       "_view_count": null,
       "_view_module": null,
       "_view_module_version": "",
       "_view_name": null,
       "components": [
        "IPY_MODEL_87d3b37e7a1a4ce78ad0ee9c7216a649",
        "IPY_MODEL_2200a45eeb794d9292f62f1a0a5dd556",
        "IPY_MODEL_b13b7d67b72e4ebcbf87d6b01c3dbd54"
       ],
       "name": "E_Principal"
      }
     },
     "7f30fe8b020f44b989509a52f56ffb41": {
      "buffers": [
       {
        "data": "mB29SkLv10oh5iRLSgySS++830uvDa9Lxc4pTBiI1kvlhRdLVcytTEZGvkvBXSxLdNaCStWOKEoaaUlLbelfS35jmks2/NNLJ2qbSyd9lUuypblL+XwITO4UfUu2zIlLM/uKTJb1zkv29ChM9DUMSyo0PktsM71KNmibS7LxtksBO5dLUmcjTMFPYUsjacVKD6wXStz0cUqM+NRJuXgXS3OdIEvc2dhKhCStSOz1JEu+ihRL7J6CS99PYkuWeIFLB16VS/FJcksIGrdLPvDRSyu3vUu6J5ZLkueUS/3DoEvIXbtLOgU7S3lWpktDU45LxpW2S79Xn0ufF+5L0N4TTC6z2kuF0etLFN3ES53wpEvNi5NLy3ODSygrlEuFdqhLry2LS0TSQ0trFUpLaIVgTCJESkyXnhFMMgr8S9r010s4eqJMK2JmTJ6aI0wcFfhLB7LTS/zvlEvLgXRLPg4YS5ZtCUuFVINLOqFOSxAoEUuHexpL",
        "encoding": "base64",
        "path": [
         "array",
         "data"
        ]
       }
      ],
      "model_module": "ipygany",
      "model_module_version": "^0.5.0",
      "model_name": "ComponentModel",
      "state": {
       "_model_module": "ipygany",
       "_model_module_version": "^0.5.0",
       "_model_name": "ComponentModel",
       "_view_count": null,
       "_view_module": null,
       "_view_module_version": "",
       "_view_name": null,
       "array": {
        "dtype": "float32",
        "shape": [
         93
        ]
       },
       "name": "S_Mises"
      }
     },
     "8311116c134b4b21814cbab23d81a193": {
      "buffers": [
       {
        "data": "A4A7HkXfPiL0nAMiADBaoH3XhSFTwqigF4CFnnf2iaD/UwuhCqDyIBUAXB0FYL8fUIGcoUVyFSGC8huh/5sEoRqkXSFnq2+g+TjFoN7fAiAP4FYf9q8wHw7B+iAa3GsgBtifoPzPk58HgLwf4C9IIAAApJ8jfCAg/8emHwLw6R9fcBah+/8Vnvj/pZ0g0COgDzjkoPn/J52vhcMhDtiroA8AZ59eE6whDIBAHwAw2qABcAYgE+CboBAAMKAE2L6g8esiIICywiEJ1CWgAX/sn5wHqSH9f1IfCF6UIArB3aDwPGCg+X9gHwPASyANgAkf8v8EnwjgayD7/6ue/9+yoPt/2R4JfCqgA2DGH/z/z5/3f7mgCXqAIP/g5aD8b+mf6/cPIC4A/5/9gVmh7de4oA0gUyDhVx+gIEAxIOK/WCACwAch9f8boBkAiB4FACif7v9vHfD/Fx35fwsgBoCknxjQY6A+APmf4l8QIP3/Z58EABag",
        "encoding": "base64",
        "path": [
         "array",
         "data"
        ]
       }
      ],
      "model_module": "ipygany",
      "model_module_version": "^0.5.0",
      "model_name": "ComponentModel",
      "state": {
       "_model_module": "ipygany",
       "_model_module_version": "^0.5.0",
       "_model_name": "ComponentModel",
       "_view_count": null,
       "_view_module": null,
       "_view_module_version": "",
       "_view_name": null,
       "array": {
        "dtype": "float32",
        "shape": [
         93
        ]
       },
       "name": "ZX"
      }
     },
     "83c3ef2280ea440fa42d00b517fe3077": {
      "buffers": [
       {
        "data": "NVCmx8ChDMgXowJK6NlVSe+NH0uEkR5L4amnSe0nlUpnuA9L6II3Sgyja0tA0VTIAD3gxzSLLEgCb71JALo6x2bwvUpZISBLIN2wSkP7L0iIU8VJ5PV3Ska8G0utvsFKXLYISkKWI0t27YRLMuUmSU8POEuzflzHXs65SiPcgEgata9KGbcuSzLpAEs1c6/IZtIkRjPP8sZ72qNFVjMdSYs5yElwuZlJDgbbyGb2b0czgJ/GKA5TSEqYVUnm/XRKwIK5SnKvhEoVi/9KzvsWS0gSAEsR0lBK2mm1SiIP/kqBOhdLAJ0fyGjNfkkaA0DHatKUSRkQgUkA+OzHGg1VSsKP7Em5mZBK6bJESgkvW0oIhLZKld76SiDdGUtvxKZK+WnFSnAX7ko2kxpLrEknSRj1zUrPTudKijogS0Eb/0pan6JKytgBS/7nXkv1hGBLZ8deS+OkD0vv7/VK/sizSrRSx0p1oUtLUlApS12HgErDo+VI",
        "encoding": "base64",
        "path": [
         "array",
         "data"
        ]
       }
      ],
      "model_module": "ipygany",
      "model_module_version": "^0.5.0",
      "model_name": "ComponentModel",
      "state": {
       "_model_module": "ipygany",
       "_model_module_version": "^0.5.0",
       "_model_name": "ComponentModel",
       "_view_count": null,
       "_view_module": null,
       "_view_module_version": "",
       "_view_name": null,
       "array": {
        "dtype": "float32",
        "shape": [
         93
        ]
       },
       "name": "Mid"
      }
     },
     "874a231b272a41a8a9bb5d238cae1f3d": {
      "buffers": [
       {
        "data": "Cq7wIQBcBCEBzhyh/I+qoJLZI6JHohYiBWD8oBFUhKAFJQmh/6yqoPvvo5/4j5kf/M+ZnxOpmiEJ9MegCBC1H+LX6qHZIryhIn3MoQ6uG6AQpDsg8f/KIABAB5/8K6Yg+v8ZIAZgXR8AoJif++7jnwfS4x/zkJUhBO+CIf5x/SCbolQgB0Bln/nf8Z8R0nWiDZDgIAJgIiDjP2cg7zutoQm8yCHtZ9Eh+Z8toP1/2J8DoLsfCZBDIf3Hv6EJCuWh/7/rIIVuliIEYKGg8APyoQSwWCEGBFohD6wLIhwAaCD/R12hMNbeIfjFcqH6p2cf/i9hnwjQ2qDb178h/T83oQJAD6H8v50f/S2AIQFD/KD3TyyhBogWoPfH/qD+p8ogAdsUIQBIqR/0Y4KgHoA5IP3/pB8HAKGf8v/fngGAlB8HAN4fBGyboAoASJ3iMyKg978ZnwBAeh/1vzifFwAEHfwfkZ4G0Juf+9/2nhzArx77/ysd",
        "encoding": "base64",
        "path": [
         "array",
         "data"
        ]
       }
      ],
      "model_module": "ipygany",
      "model_module_version": "^0.5.0",
      "model_name": "ComponentModel",
      "state": {
       "_model_module": "ipygany",
       "_model_module_version": "^0.5.0",
       "_model_name": "ComponentModel",
       "_view_count": null,
       "_view_module": null,
       "_view_module_version": "",
       "_view_name": null,
       "array": {
        "dtype": "float32",
        "shape": [
         93
        ]
       },
       "name": "YZ"
      }
     },
     "87d3b37e7a1a4ce78ad0ee9c7216a649": {
      "buffers": [
       {
        "data": "wasZt152DriZNaa3oOj1t1LugbiThlu4lmiJuKH6UbiY9O23nvQLuWWvhLgOnvG3LhSst3nllbYwabm3NujHt0r3LLj0Qnq4MFIquHAh8Lfd1B+4gUd4uD6aL7iBwh+4Ml/fuMUVebibcMa415Z+t5RGFbgkZzq3kI8suC99ErhVUCa4WDqtuEa9GLjtFQO4/CLdtrhRyLbf/we3jR+Ct6Mkm7eZ/1W3luz0tZGFgrdYx4u3w/3QtzvpwbedFwe44GwnuMlBA7g6CFS4yTp1uGaWWbh4IRO4jyMmuESFQbjm2GK4J0qjt/SuCriPKeq33GgZuNSBBrjXwkW4ShODuIw8PbilWmG40bs2uBJlILjKECW4ENQnuDo5QrjAuTK4UxYiuNR6B7jhuRa4n6+xuENOvbjKEJK4zw6PuIf2bbgSEgW5nPvbuCtRuriXbJ24dduKuGMvQLj+1B64Nq3RtxdVyrd6DEa4dQUduCUit7e38IK3",
        "encoding": "base64",
        "path": [
         "array",
         "data"
        ]
       }
      ],
      "model_module": "ipygany",
      "model_module_version": "^0.5.0",
      "model_name": "ComponentModel",
      "state": {
       "_model_module": "ipygany",
       "_model_module_version": "^0.5.0",
       "_model_name": "ComponentModel",
       "_view_count": null,
       "_view_module": null,
       "_view_module_version": "",
       "_view_name": null,
       "array": {
        "dtype": "float32",
        "shape": [
         93
        ]
       },
       "name": "Min"
      }
     },
     "92184a904843412db15026a30ad1b736": {
      "buffers": [
       {
        "data": "4SdwtxnHQLXTbO+0/XNxuJAuOLV9FzO4IG4OuU2HBrh9BJo10t6DtfEjMzZ6BeE1n1csNviUzjNXDwK4G4ZCuOtyGrW0VgS4jbRauHFgYbg0eX6463mfuAtL6Ld+8by2YxQ1uTx2iDYPXyE2O36ON73DGDZdSJe3ZPYTuIBKlbgvXia4RUwVuDVkkDeGikw2zX8Pt9BFC7f6QhK1tSXRt5JTdreFrTUxdRgnsrggCLh4tvu3EtFcuB0BNbh19Qy48AOTt5iChbVK+Aq4HMiDtwf10LTbNGa4I9c5uG2PQ7jaxR64JAv5t1EmirgISHO4+a6JuHpNerj0Y8W4aafcuECon7iwNlu4CppUuJwETbhKykK4nWwJuJFCF7gyLI63AmTFtzcJ47WGR3e3CCszuYu7wbhSX3m4nHZ/tzfyjbdytOq4otWbNk1blbdhFio284cyNrjCOjeM7uQ2fiKQN9efHDduMh82JC0qN6tdszUTbx83",
        "encoding": "base64",
        "path": [
         "array",
         "data"
        ]
       }
      ],
      "model_module": "ipygany",
      "model_module_version": "^0.5.0",
      "model_name": "ComponentModel",
      "state": {
       "_model_module": "ipygany",
       "_model_module_version": "^0.5.0",
       "_model_name": "ComponentModel",
       "_view_count": null,
       "_view_module": null,
       "_view_module_version": "",
       "_view_name": null,
       "array": {
        "dtype": "float32",
        "shape": [
         93
        ]
       },
       "name": "XY"
      }
     },
     "92558aea599f4d2893672f38aa87e00c": {
      "model_module": "@jupyter-widgets/controls",
      "model_module_version": "1.5.0",
      "model_name": "LinkModel",
      "state": {
       "_model_module": "@jupyter-widgets/controls",
       "_model_module_version": "1.5.0",
       "_model_name": "LinkModel",
       "_view_count": null,
       "_view_module": "@jupyter-widgets/controls",
       "_view_module_version": "1.5.0",
       "_view_name": null,
       "source": [
        "IPY_MODEL_54045fa585ac47c998e5990886749469",
        "colormap"
       ],
       "target": [
        "IPY_MODEL_4e8760590adc4abfa05fa6febde4e960",
        "index"
       ]
      }
     },
     "9541904f3d4e4ca6b19383207d20046b": {
      "model_module": "@jupyter-widgets/controls",
      "model_module_version": "1.5.0",
      "model_name": "GridBoxModel",
      "state": {
       "_dom_classes": [],
       "_model_module": "@jupyter-widgets/controls",
       "_model_module_version": "1.5.0",
       "_model_name": "GridBoxModel",
       "_view_count": null,
       "_view_module": "@jupyter-widgets/controls",
       "_view_module_version": "1.5.0",
       "_view_name": "GridBoxView",
       "box_style": "",
       "children": [
        "IPY_MODEL_29dcc9dfbfb34172a288fc68d64750be",
        "IPY_MODEL_3d4170d81ca94fc4bb134029afb94851",
        "IPY_MODEL_29ab61fd353c474da4f41b1a9c315df2"
       ],
       "layout": "IPY_MODEL_4dab8f188ae541ee8ee0e1d688828c80"
      }
     },
     "a67995c2b7c44aeea7aaec5b93c87a4f": {
      "model_module": "@jupyter-widgets/base",
      "model_module_version": "1.2.0",
      "model_name": "LayoutModel",
      "state": {
       "_model_module": "@jupyter-widgets/base",
       "_model_module_version": "1.2.0",
       "_model_name": "LayoutModel",
       "_view_count": null,
       "_view_module": "@jupyter-widgets/base",
       "_view_module_version": "1.2.0",
       "_view_name": "LayoutView",
       "align_content": null,
       "align_items": null,
       "align_self": null,
       "border": null,
       "bottom": null,
       "display": null,
       "flex": null,
       "flex_flow": null,
       "grid_area": "left-sidebar",
       "grid_auto_columns": null,
       "grid_auto_flow": null,
       "grid_auto_rows": null,
       "grid_column": null,
       "grid_gap": null,
       "grid_row": null,
       "grid_template_areas": null,
       "grid_template_columns": null,
       "grid_template_rows": null,
       "height": null,
       "justify_content": null,
       "justify_items": null,
       "left": null,
       "margin": null,
       "max_height": null,
       "max_width": null,
       "min_height": null,
       "min_width": null,
       "object_fit": null,
       "object_position": null,
       "order": null,
       "overflow": null,
       "overflow_x": null,
       "overflow_y": null,
       "padding": null,
       "right": null,
       "top": null,
       "visibility": null,
       "width": null
      }
     },
     "ad621201132f4950a7349f10d0147e08": {
      "model_module": "@jupyter-widgets/base",
      "model_module_version": "1.2.0",
      "model_name": "LayoutModel",
      "state": {
       "_model_module": "@jupyter-widgets/base",
       "_model_module_version": "1.2.0",
       "_model_name": "LayoutModel",
       "_view_count": null,
       "_view_module": "@jupyter-widgets/base",
       "_view_module_version": "1.2.0",
       "_view_name": "LayoutView",
       "align_content": null,
       "align_items": null,
       "align_self": null,
       "border": null,
       "bottom": null,
       "display": null,
       "flex": null,
       "flex_flow": null,
       "grid_area": null,
       "grid_auto_columns": null,
       "grid_auto_flow": null,
       "grid_auto_rows": null,
       "grid_column": null,
       "grid_gap": null,
       "grid_row": null,
       "grid_template_areas": null,
       "grid_template_columns": null,
       "grid_template_rows": null,
       "height": null,
       "justify_content": null,
       "justify_items": null,
       "left": null,
       "margin": null,
       "max_height": null,
       "max_width": null,
       "min_height": null,
       "min_width": null,
       "object_fit": null,
       "object_position": null,
       "order": null,
       "overflow": null,
       "overflow_x": null,
       "overflow_y": null,
       "padding": null,
       "right": null,
       "top": null,
       "visibility": null,
       "width": null
      }
     },
     "b037243dd88a4797b28df8dfcde51f1f": {
      "buffers": [
       {
        "data": "IZ8bQpZyHEIT4apBhkmFQZqZI0CgFRJAsHIhQb99qECVYBdBsD0BQVUwTEGI13VAlnIcQpZyHEIT4apBIZ8bQkJb+ECamSNAKcs8QEY2mkEnTmRAsHIhQYSe4kCVYBdBsD0BQVUwTEGwPQFBlWAXQVUwTEGWchxCQlv4QEY2mkGEnuJAsD0BQVUwTEGWchxClnIcQpZyHEKWchxCIOPxQRPhqkEg4/FB6QgcQiGfG0LpCBxCykPeQU0VmEHP92hBQlv4QM/3aEESFKVAmpkjQBIUpUDh4hxBa2CrQFBwJ0Cd1xpAKrroQUY2mkEquuhBGsA2QVvTIUGe72pBsHIhQZ7vakGvsfVAaVKNQMxiqkACgqBAhJ7iQKrUlUBrn+tA5lcEQZVgF0HmVwRBRVgRQbA9AUFFWBFBF7cmQYs3EEGwPQFBsD0BQbA9AUEXtyZBVTBMQVUwTEFLyDFBS8gxQZVgF0FVMExBVTBMQQfTBEF31tRA",
        "encoding": "base64",
        "path": [
         "array",
         "data"
        ]
       }
      ],
      "model_module": "ipygany",
      "model_module_version": "^0.5.0",
      "model_name": "ComponentModel",
      "state": {
       "_model_module": "ipygany",
       "_model_module_version": "^0.5.0",
       "_model_name": "ComponentModel",
       "_view_count": null,
       "_view_module": null,
       "_view_module_version": "",
       "_view_name": null,
       "array": {
        "dtype": "float32",
        "shape": [
         93
        ]
       },
       "name": "STR"
      }
     },
     "b13b7d67b72e4ebcbf87d6b01c3dbd54": {
      "buffers": [
       {
        "data": "ceT1N1otJTecKV04obPAOIHpFTnGqOc4ZdVfOQS9Dzm8iRU4VlPlOVLS8DgHqkw4/33WNsRaXje5N4Y4QdqQOPQrzzhH0A0557/QONnlwzil3fU4tPs1ORKpoDiWnLg4/0q3OT75CTmv3mI54RE5OMekNzgZxfE3J6nQOLvs7zj7MMs4TUtcOSP7kDgpLB83aZIyN1JanTdmi1U2Yo9IOIS7Vjj9ORE4ZEUtNeouWDilNT84S2arOICelTgNBK44gYLIOBXMojgDSfU4KYIMOWBY/jjuLck4P+fHOApX1jiZnfk4u8JxOHTL2zjTgLk4NU/xOAN80jjy+xo5YoNEOc/LEDmIxx05KkwDOYDW3DjzHMY4pSKtOO+FwTidNOI4S1G6OOEZeTg9Q244xWGTOY3XhjkUe0M5h9soObUjETmz7dc5s7KZOXfXWznHayM5XT4KOf5nwzixJ6A4guFBOB1qJTiCs5g4k6pqOCh+Pzj4vks4",
        "encoding": "base64",
        "path": [
         "array",
         "data"
        ]
       }
      ],
      "model_module": "ipygany",
      "model_module_version": "^0.5.0",
      "model_name": "ComponentModel",
      "state": {
       "_model_module": "ipygany",
       "_model_module_version": "^0.5.0",
       "_model_name": "ComponentModel",
       "_view_count": null,
       "_view_module": null,
       "_view_module_version": "",
       "_view_name": null,
       "array": {
        "dtype": "float32",
        "shape": [
         93
        ]
       },
       "name": "Max"
      }
     },
     "b8cdafbb83b948d0b99fb896776ba67c": {
      "buffers": [
       {
        "data": "ABvsx8ChDMj2BpDFAGLbxo1pn0eaabNGgMlwSM2N+EYa+SDHAMc7Sc2O/MZA0VTIAD3gx80HE8f2ipXFALo6xwB6HMaaaLJHhVt5RRpYccfNiHBGs5K7RzNzfUZmYcVG8HcOSeWQ28Pg1xRJgIcWyM0wP8azflzHFO5TRZrQzcaaHsFGAGe+SMOxQkWAifrHZtIkRjPP8sZ72qNFFEjRRZpiocZcE9LFAKQlyGb2b0czgJ/GpMi9RM2onsbNyPpGZspGRmYaeEbNFp1GAA/ERgByq0ZmUkNGANy4RYUXb8WFUdNFAJ0fyFokjkcaA0DHmoA7R3HFhEQA+OzH5rU3RzPGpcYADj9HSJl7xT3YikVmyaZGcX2TRc1Zu0YzgbvGSPmdRbh+lkSaYpHGgNxFSIAmAshNsJ9HQNe1x6axjUdQZbhJoBuByEBuhUhA113IgITMR1pTrcfsue9ETbMox4AbD8eAEwXIzaoixk0QjccawxLH",
        "encoding": "base64",
        "path": [
         "array",
         "data"
        ]
       }
      ],
      "model_module": "ipygany",
      "model_module_version": "^0.5.0",
      "model_name": "ComponentModel",
      "state": {
       "_model_module": "ipygany",
       "_model_module_version": "^0.5.0",
       "_model_name": "ComponentModel",
       "_view_count": null,
       "_view_module": null,
       "_view_module_version": "",
       "_view_name": null,
       "array": {
        "dtype": "float32",
        "shape": [
         93
        ]
       },
       "name": "ZZ"
      }
     },
     "b8f7680d3b21405d8c76d971ee468b50": {
      "buffers": [
       {
        "data": "",
        "encoding": "base64",
        "path": [
         "tetrahedron_indices",
         "data"
        ]
       },
       {
        "data": "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",
        "encoding": "base64",
        "path": [
         "triangle_indices",
         "data"
        ]
       },
       {
        "data": "uB6VP7EVUD8AAAAAoTxcpwAAgD8AAAAA35t0J2Khyj8AAAAAwhKvP3qqpz8AAAAAe8CnpwAAMEAAAAAAZQHjP3B8E0AAAAAAADrkP57v5z4AAAAAAYcIQHdoQD8AAAAAG0w1QESLrD8AAAAAAAAAQFaRRCgAAAAAIbAaQDUvSycAAAAAAABQQLDLJygAAAAACi0XPxSWdD8AAAAA1BeWJodQpT8AAAAAhscyP4hLwj8AAAAAvRiiP6Xahz8AAAAA8SWWJ0SoCkAAAAAA/DhqP8bhKEAAAAAAEwrJP61R5z8AAAAAgSG/P99OKj8AAAAA9zvkPwOViT8AAAAAAaT6PyMwGj8AAAAA/BgXQJLo8T8AAAAAeekeQNlfhj8AAAAAmwP4P6DGfT4AAAAAxtwVQLwGzT4AAAAAEFgNQCJiDCgAAAAAhA1JQIdsND8AAAAAEFg1QECPYCcAAAAASPokPzRLnj8AAAAAOYBOP7ADBUAAAAAAkq7RP3O8Xj8AAAAAfJsEQPW+vT8AAAAANe8IQAb1pT4AAAAAOnUvQPt3DT8AAAAAzuOYPmghfT8AAAAAoRMePwpLjD8AAAAASPqkPgfOoT8AAAAArxcWJkSokj8AAAAA3+ArP15LsD8AAAAAmMKzPoeiyD8AAAAAYCPhJsv4tz8AAAAARKdjP2JNZT8AAAAAu5ubP4blbz8AAAAA8pV0PxYTkz8AAAAAwJWoP7nClz8AAAAAtB+FP3Retz8AAAAA16NAP3Qp5j8AAAAAOYDOPg/WB0AAAAAAxDFhJ8v47z8AAAAAmlxcP9DyFkAAAAAAoaDsPhE2LkAAAAAAALO7JyJUHUAAAAAAaw68Pz1+xz8AAAAAByWYP7Cs+D8AAAAAvAXWP7iSA0AAAAAA6uetPwTiH0AAAAAAqiurP9lbPj8AAAAANGjIP6GFRD8AAAAAqOO5P+c4dz8AAAAARfXaP0XzeD8AAAAAQYLKP6zimT8AAAAAg27TP6hVED8AAAAAKm/vPwEUBz8AAAAAdCnmP0t2PD8AAAAAluwCQFVMLT8AAAAAnin8P1GIbD8AAAAATrn2P9Kpoz8AAAAAXCDpPyeI0j8AAAAAJ9oNQMPT1z8AAAAAwTkFQOEoB0AAAAAAPbgTQAOUZj8AAAAAZcIRQD0Poj8AAAAAtRoqQI51mT8AAAAAvHQnQNHL0D8AAAAAQ5DvP9x/tD4AAAAAlngCQBpskj4AAAAAsCADQKYq7T4AAAAA/mUPQNB9uT4AAAAABBwQQO1IFT8AAAAA2v79P2DH/z0AAAAACKwGQGJvGigAAAAAoyMLQOT0JT4AAAAAGQQUQMGp/CcAAAAA/YIZQNknUD4AAAAA66giQFn78z4AAAAAby8nQLUbTT8AAAAAX0E8QDnyID8AAAAAVrdAQBFwhD8AAAAAGQQoQGRrqCcAAAAAkGYyQPt3jT4AAAAACKxCQBCP4CYAAAAAiUFOQA7ztT4AAAAA",
        "encoding": "base64",
        "path": [
         "vertices",
         "data"
        ]
       }
      ],
      "model_module": "ipygany",
      "model_module_version": "^0.5.0",
      "model_name": "TetraMeshModel",
      "state": {
       "_model_module": "ipygany",
       "_model_module_version": "^0.5.0",
       "_model_name": "TetraMeshModel",
       "_view_count": null,
       "_view_module": null,
       "_view_module_version": "",
       "_view_name": null,
       "data": [
        "IPY_MODEL_c9f4ea9591404ad69e2220ccc824456e",
        "IPY_MODEL_02b21708cd3f482b8059d34dc8a8b0ef",
        "IPY_MODEL_e12499bd5bca4dfd95f7723045e53805",
        "IPY_MODEL_115a96bb1971400f82c888658c2f86c2",
        "IPY_MODEL_c8c1810567904612bf234dd463e9ebe6",
        "IPY_MODEL_d62aa4ee2c3b48d3a14090a46f582706",
        "IPY_MODEL_7bd5f32017d94c798f925398343049fd",
        "IPY_MODEL_bc31ba99630f46e3926a2af1d1d1565c"
       ],
       "default_color": "#6395b0",
       "environment_meshes": [],
       "tetrahedron_indices": {
        "dtype": "uint32",
        "shape": [
         0
        ]
       },
       "triangle_indices": {
        "dtype": "uint32",
        "shape": [
         432
        ]
       },
       "vertices": {
        "dtype": "float32",
        "shape": [
         279
        ]
       }
      }
     },
     "bc31ba99630f46e3926a2af1d1d1565c": {
      "model_module": "ipygany",
      "model_module_version": "^0.5.0",
      "model_name": "DataModel",
      "state": {
       "_model_module": "ipygany",
       "_model_module_version": "^0.5.0",
       "_model_name": "DataModel",
       "_view_count": null,
       "_view_module": null,
       "_view_module_version": "",
       "_view_name": null,
       "components": [
        "IPY_MODEL_b037243dd88a4797b28df8dfcde51f1f"
       ],
       "name": "ERROR"
      }
     },
     "bcb51d3a84204a5b817e27601ea3df0b": {
      "model_module": "@jupyter-widgets/base",
      "model_module_version": "1.2.0",
      "model_name": "LayoutModel",
      "state": {
       "_model_module": "@jupyter-widgets/base",
       "_model_module_version": "1.2.0",
       "_model_name": "LayoutModel",
       "_view_count": null,
       "_view_module": "@jupyter-widgets/base",
       "_view_module_version": "1.2.0",
       "_view_name": "LayoutView",
       "align_content": null,
       "align_items": null,
       "align_self": null,
       "border": null,
       "bottom": null,
       "display": null,
       "flex": null,
       "flex_flow": null,
       "grid_area": null,
       "grid_auto_columns": null,
       "grid_auto_flow": null,
       "grid_auto_rows": null,
       "grid_column": null,
       "grid_gap": null,
       "grid_row": null,
       "grid_template_areas": null,
       "grid_template_columns": null,
       "grid_template_rows": null,
       "height": null,
       "justify_content": null,
       "justify_items": null,
       "left": null,
       "margin": null,
       "max_height": null,
       "max_width": null,
       "min_height": null,
       "min_width": null,
       "object_fit": null,
       "object_position": null,
       "order": null,
       "overflow": null,
       "overflow_x": null,
       "overflow_y": null,
       "padding": null,
       "right": null,
       "top": null,
       "visibility": null,
       "width": null
      }
     },
     "c57a836423254b13b886cfeed9f9c6e4": {
      "buffers": [
       {
        "data": "wasZt2HiJDeZNaa3oOj1t1LugbiThlu4lmiJuKH6UbiY9O23nvQLuWWvhLhurxy3oHC9NnnllbYwabm3DhCkt0r3LLj0Qnq4MFIquHAh8Lfd1B+4gUd4uD6aL7iBwh+4Ml/fuMUVebibcMa415Z+t5RGFbi2sQK3kI8suC99ErhVUCa4WDqtuEa9GLgpLB83tyXktQiWu7YN3g42jR+Ct6Mkm7eZ/1W3ZEUtNdMTf7epMFG3w/3QtzvpwbedFwe44GwnuMlBA7g6CFS4yTp1uGaWWbh4IRO4jyMmuESFQbjm2GK4lReOt/SuCrjYG9u33GgZuNSBBrh/uza4ShODuIw8PbilWmG40bs2uBJlILjKECW4ENQnuDo5QrjAuTK4UxYiuNR6B7jhuRa4n6+xuENOvbjKEJK4zw6PuIf2bbgSEgW5nPvbuCtRuriXbJ24dduKuGMvQLj+1B64Nq3RtxdVyrd6DEa4dQUduCUit7e38IK3",
        "encoding": "base64",
        "path": [
         "array",
         "data"
        ]
       }
      ],
      "model_module": "ipygany",
      "model_module_version": "^0.5.0",
      "model_name": "ComponentModel",
      "state": {
       "_model_module": "ipygany",
       "_model_module_version": "^0.5.0",
       "_model_name": "ComponentModel",
       "_view_count": null,
       "_view_module": null,
       "_view_module_version": "",
       "_view_name": null,
       "array": {
        "dtype": "float32",
        "shape": [
         93
        ]
       },
       "name": "ZZ"
      }
     },
     "c78f59c5cdbf46e98f211e80c467610b": {
      "model_module": "@jupyter-widgets/base",
      "model_module_version": "1.2.0",
      "model_name": "LayoutModel",
      "state": {
       "_model_module": "@jupyter-widgets/base",
       "_model_module_version": "1.2.0",
       "_model_name": "LayoutModel",
       "_view_count": null,
       "_view_module": "@jupyter-widgets/base",
       "_view_module_version": "1.2.0",
       "_view_name": "LayoutView",
       "align_content": null,
       "align_items": null,
       "align_self": null,
       "border": null,
       "bottom": null,
       "display": null,
       "flex": null,
       "flex_flow": null,
       "grid_area": "header",
       "grid_auto_columns": null,
       "grid_auto_flow": null,
       "grid_auto_rows": null,
       "grid_column": null,
       "grid_gap": null,
       "grid_row": null,
       "grid_template_areas": null,
       "grid_template_columns": null,
       "grid_template_rows": null,
       "height": null,
       "justify_content": null,
       "justify_items": null,
       "left": null,
       "margin": null,
       "max_height": null,
       "max_width": null,
       "min_height": null,
       "min_width": null,
       "object_fit": null,
       "object_position": null,
       "order": null,
       "overflow": null,
       "overflow_x": null,
       "overflow_y": null,
       "padding": null,
       "right": null,
       "top": null,
       "visibility": null,
       "width": null
      }
     },
     "c8c1810567904612bf234dd463e9ebe6": {
      "model_module": "ipygany",
      "model_module_version": "^0.5.0",
      "model_name": "DataModel",
      "state": {
       "_model_module": "ipygany",
       "_model_module_version": "^0.5.0",
       "_model_name": "DataModel",
       "_view_count": null,
       "_view_module": null,
       "_view_module_version": "",
       "_view_name": null,
       "components": [
        "IPY_MODEL_5a6dde772a334f56a40e6be49043de95",
        "IPY_MODEL_079ab39a8bbe4ac69649cae334a5f3c7",
        "IPY_MODEL_c57a836423254b13b886cfeed9f9c6e4",
        "IPY_MODEL_92184a904843412db15026a30ad1b736",
        "IPY_MODEL_874a231b272a41a8a9bb5d238cae1f3d",
        "IPY_MODEL_8311116c134b4b21814cbab23d81a193"
       ],
       "name": "E"
      }
     },
     "c9f4ea9591404ad69e2220ccc824456e": {
      "model_module": "ipygany",
      "model_module_version": "^0.5.0",
      "model_name": "DataModel",
      "state": {
       "_model_module": "ipygany",
       "_model_module_version": "^0.5.0",
       "_model_name": "DataModel",
       "_view_count": null,
       "_view_module": null,
       "_view_module_version": "",
       "_view_name": null,
       "components": [
        "IPY_MODEL_55740c781a134c18b8cfccb7482b4308",
        "IPY_MODEL_dbefff503a564d55ae2ac808c148f044",
        "IPY_MODEL_7bc17947839a4a32b20ad5cf0bd9d4ab"
       ],
       "name": "U"
      }
     },
     "d62aa4ee2c3b48d3a14090a46f582706": {
      "model_module": "ipygany",
      "model_module_version": "^0.5.0",
      "model_name": "DataModel",
      "state": {
       "_model_module": "ipygany",
       "_model_module_version": "^0.5.0",
       "_model_name": "DataModel",
       "_view_count": null,
       "_view_module": null,
       "_view_module_version": "",
       "_view_name": null,
       "components": [
        "IPY_MODEL_0f22e17d889f49df9c3d5430c02abd0d"
       ],
       "name": "E_Mises"
      }
     },
     "dbefff503a564d55ae2ac808c148f044": {
      "buffers": [
       {
        "data": "Iv3aOcHoDzq0wg869a/GOeITDzoeFa45pT1cOe0NEzlFH3E4AAAAAAAAAAAAAAAAl0YHOqggEDqNKwQ6rmrPORERDzoufv85eUS6OfMOqzme/Yg54d8sOaOAPzltGNo4rUXoOP8BbzgAAAAAc4wOtgAAAAAXywU6MJ8BOsikljlOvWo5dQObOBsKBjgXvQ06M5wGOqeODTonJRA6T/kEOiHQDDo3/A86dGL4OX/h1Dk+h/I5z7XKOVMO7DkxxQI6PqcLOo1aDzoipAA6JyALOrn7DjrIBcA5ssfjOf18tDlrRts5O/fDOdXhnzl+8bQ5TiGPOXC9qDnT8ow55oZAOQtybzndPR45fHxQOR1mfTns3Jg5XsdWOWqehjn/x/84BswpOcWerjivPu448wMoOX/Mtzj2PPk4B5yGOIqdxjiTRmY4AAAAABaEFjgAAAAAqefaN41tOzh/2IU4n2yON4kXmzcAAAAA65BkNwAAAACRr762",
        "encoding": "base64",
        "path": [
         "array",
         "data"
        ]
       }
      ],
      "model_module": "ipygany",
      "model_module_version": "^0.5.0",
      "model_name": "ComponentModel",
      "state": {
       "_model_module": "ipygany",
       "_model_module_version": "^0.5.0",
       "_model_name": "ComponentModel",
       "_view_count": null,
       "_view_module": null,
       "_view_module_version": "",
       "_view_name": null,
       "array": {
        "dtype": "float32",
        "shape": [
         93
        ]
       },
       "name": "D2"
      }
     },
     "e12499bd5bca4dfd95f7723045e53805": {
      "model_module": "ipygany",
      "model_module_version": "^0.5.0",
      "model_name": "DataModel",
      "state": {
       "_model_module": "ipygany",
       "_model_module_version": "^0.5.0",
       "_model_name": "DataModel",
       "_view_count": null,
       "_view_module": null,
       "_view_module_version": "",
       "_view_name": null,
       "components": [
        "IPY_MODEL_7f30fe8b020f44b989509a52f56ffb41"
       ],
       "name": "S_Mises"
      }
     },
     "f5725118e8f84bd8b9a1207c235123f3": {
      "model_module": "@jupyter-widgets/base",
      "model_module_version": "1.2.0",
      "model_name": "LayoutModel",
      "state": {
       "_model_module": "@jupyter-widgets/base",
       "_model_module_version": "1.2.0",
       "_model_name": "LayoutModel",
       "_view_count": null,
       "_view_module": "@jupyter-widgets/base",
       "_view_module_version": "1.2.0",
       "_view_name": "LayoutView",
       "align_content": null,
       "align_items": null,
       "align_self": null,
       "border": null,
       "bottom": null,
       "display": null,
       "flex": null,
       "flex_flow": null,
       "grid_area": "right-sidebar",
       "grid_auto_columns": null,
       "grid_auto_flow": null,
       "grid_auto_rows": null,
       "grid_column": null,
       "grid_gap": null,
       "grid_row": null,
       "grid_template_areas": null,
       "grid_template_columns": null,
       "grid_template_rows": null,
       "height": null,
       "justify_content": null,
       "justify_items": null,
       "left": null,
       "margin": null,
       "max_height": null,
       "max_width": null,
       "min_height": null,
       "min_width": null,
       "object_fit": null,
       "object_position": null,
       "order": null,
       "overflow": null,
       "overflow_x": null,
       "overflow_y": null,
       "padding": null,
       "right": null,
       "top": null,
       "visibility": null,
       "width": null
      }
     }
    },
    "version_major": 2,
    "version_minor": 0
   }
  }
 },
 "nbformat": 4,
 "nbformat_minor": 4
}