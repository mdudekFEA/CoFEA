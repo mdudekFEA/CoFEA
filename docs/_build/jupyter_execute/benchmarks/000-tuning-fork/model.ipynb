{
 "cells": [
  {
   "cell_type": "code",
   "execution_count": 1,
   "metadata": {},
   "outputs": [
    {
     "name": "stdout",
     "output_type": "stream",
     "text": [
      "hello world\n"
     ]
    },
    {
     "name": "stderr",
     "output_type": "stream",
     "text": [
      "UsageError: Line magic function `%from` not found.\n"
     ]
    }
   ],
   "source": [
    "   print(\"hello world\")\n",
    "   %from ipygany import Scene, TetraMesh\n",
    "   %mesh = TetraMesh.from_vtk('benchmarks/000-tuning-fork/fork.vtk')\n",
    "   %scene = Scene([mesh])\n",
    "   %scene"
   ]
  }
 ],
 "metadata": {
  "kernelspec": {
   "display_name": "Python 3",
   "language": "python",
   "name": "python3"
  },
  "language_info": {
   "codemirror_mode": {
    "name": "ipython",
    "version": 3
   },
   "file_extension": ".py",
   "mimetype": "text/x-python",
   "name": "python",
   "nbconvert_exporter": "python",
   "pygments_lexer": "ipython3",
   "version": "3.6.9"
  }
 },
 "nbformat": 4,
 "nbformat_minor": 4
}