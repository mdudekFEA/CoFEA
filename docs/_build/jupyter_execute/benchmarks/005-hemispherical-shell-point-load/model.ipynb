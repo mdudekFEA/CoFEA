{
 "cells": [
  {
   "cell_type": "code",
   "execution_count": 1,
   "metadata": {},
   "outputs": [
    {
     "name": "stderr",
     "output_type": "stream",
     "text": [
      "UsageError: Line magic function `%` not found.\n"
     ]
    }
   ],
   "source": [
    "%  import numpy as np\n",
    "%  import pyvista as pv\n",
    "%  from ipywidgets import FloatSlider, FloatRangeSlider, Dropdown, Select, Box, AppLayout, jslink, Layout, VBox, HBox\n",
    "%  from ipygany import Scene, IsoColor, TetraMesh, Component, ColorBar, colormaps\n",
    "\n",
    "\n",
    "\n",
    "%  mesh = TetraMesh.from_vtk('benchmarks/005-hemispherical-shell-point-load/hemisperical-shell-points-load.vtu', %show_edges = True)\n",
    "\n",
    "%  u_min = 4.4e-6\n",
    "%  u_max = 1.8e-1\n",
    "\n",
    "  # Colorize by height\n",
    "%  colored_mesh = IsoColor(mesh, input=('u','X1'), min=u_min, max=u_max)\n",
    "\n",
    "  # Create a slider that will dynamically change the boundaries of the colormap\n",
    "%  colormap_slider_range = FloatRangeSlider(value=[u_min, u_max], min=u_min, max=u_max, step=(u_max - u_min) / 100.)\n",
    "\n",
    "%  jslink((colored_mesh, 'range'), (colormap_slider_range, 'value'))\n",
    "\n",
    "  # Create a colorbar widget\n",
    "%  colorbar = ColorBar(colored_mesh)\n",
    "\n",
    "  # Colormap choice widget\n",
    "%  colormap = Dropdown(\n",
    "%      options=colormaps,\n",
    "%      description='colormap:'\n",
    "%  )\n",
    "\n",
    "%  jslink((colored_mesh, 'colormap'), (colormap, 'index'))\n",
    "\n",
    "%  AppLayout(\n",
    "%      header=Scene([colored_mesh]),\n",
    "%      left_sidebar=VBox((colormap, colormap_slider_range)),\n",
    "%      right_sidebar=(colorbar),\n",
    "%      pane_widths=[1, 0, 1],\n",
    "%      pane_heights=['80','20',0],\n",
    "%      footer=None,\n",
    "%  )"
   ]
  }
 ],
 "metadata": {
  "kernelspec": {
   "display_name": "Python 3",
   "language": "python",
   "name": "python3"
  },
  "language_info": {
   "codemirror_mode": {
    "name": "ipython",
    "version": 3
   },
   "file_extension": ".py",
   "mimetype": "text/x-python",
   "name": "python",
   "nbconvert_exporter": "python",
   "pygments_lexer": "ipython3",
   "version": "3.6.9"
  }
 },
 "nbformat": 4,
 "nbformat_minor": 4
}